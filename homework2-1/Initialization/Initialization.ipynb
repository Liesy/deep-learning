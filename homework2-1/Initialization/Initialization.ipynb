{
 "cells": [
  {
   "cell_type": "markdown",
   "source": [
    "# Initialization\n",
    "\n",
    "Welcome to the first assignment of \"Improving Deep Neural Networks\". \n",
    "\n",
    "Training your neural network requires specifying an initial value of the weights. A well chosen initialization method will help learning.  \n",
    "\n",
    "If you completed the previous course of this specialization, you probably followed our instructions for weight initialization, and it has worked out so far. But how do you choose the initialization for a new neural network? In this notebook, you will see how different initializations lead to different results. \n",
    "\n",
    "A well chosen initialization can:\n",
    "- Speed up the convergence of gradient descent\n",
    "- Increase the odds of gradient descent converging to a lower training (and generalization) error \n",
    "\n",
    "To get started, run the following cell to load the packages and the planar dataset you will try to classify."
   ],
   "metadata": {}
  },
  {
   "cell_type": "code",
   "execution_count": null,
   "source": [
    "import numpy as np\r\n",
    "import matplotlib.pyplot as plt\r\n",
    "import sklearn\r\n",
    "import sklearn.datasets\r\n",
    "from init_utils import sigmoid, relu, compute_loss, forward_propagation, backward_propagation\r\n",
    "from init_utils import update_parameters, predict, load_dataset, plot_decision_boundary, predict_dec\r\n",
    "\r\n",
    "%matplotlib inline\r\n",
    "plt.rcParams['figure.figsize'] = (7.0, 4.0) # set default size of plots\r\n",
    "plt.rcParams['image.interpolation'] = 'nearest'\r\n",
    "plt.rcParams['image.cmap'] = 'gray'\r\n",
    "\r\n",
    "# load image dataset: blue/red dots in circles\r\n",
    "train_X, train_Y, test_X, test_Y = load_dataset()"
   ],
   "outputs": [],
   "metadata": {
    "collapsed": true,
    "jupyter": {
     "outputs_hidden": true
    }
   }
  },
  {
   "cell_type": "markdown",
   "source": [
    "You would like a classifier to separate the blue dots from the red dots."
   ],
   "metadata": {}
  },
  {
   "cell_type": "markdown",
   "source": [
    "## 1 - Neural Network model "
   ],
   "metadata": {}
  },
  {
   "cell_type": "markdown",
   "source": [
    "You will use a 3-layer neural network (already implemented for you). Here are the initialization methods you will experiment with:  \n",
    "- *Zeros initialization* --  setting `initialization = \"zeros\"` in the input argument.\n",
    "- *Random initialization* -- setting `initialization = \"random\"` in the input argument. This initializes the weights to large random values.  \n",
    "- *He initialization* -- setting `initialization = \"he\"` in the input argument. This initializes the weights to random values scaled according to a paper by He et al., 2015. \n",
    "\n",
    "**Instructions**: Please quickly read over the code below, and run it. In the next part you will implement the three initialization methods that this `model()` calls."
   ],
   "metadata": {}
  },
  {
   "cell_type": "code",
   "execution_count": null,
   "source": [
    "def model(X, Y, learning_rate = 0.01, num_iterations = 15000, print_cost = True, initialization = \"he\"):\r\n",
    "    \"\"\"\r\n",
    "    Implements a three-layer neural network: LINEAR->RELU->LINEAR->RELU->LINEAR->SIGMOID.\r\n",
    "    \r\n",
    "    Arguments:\r\n",
    "    X -- input data, of shape (2, number of examples)\r\n",
    "    Y -- true \"label\" vector (containing 0 for red dots; 1 for blue dots), of shape (1, number of examples)\r\n",
    "    learning_rate -- learning rate for gradient descent \r\n",
    "    num_iterations -- number of iterations to run gradient descent\r\n",
    "    print_cost -- if True, print the cost every 1000 iterations\r\n",
    "    initialization -- flag to choose which initialization to use (\"zeros\",\"random\" or \"he\")\r\n",
    "    \r\n",
    "    Returns:\r\n",
    "    parameters -- parameters learnt by the model\r\n",
    "    \"\"\"\r\n",
    "        \r\n",
    "    grads = {}\r\n",
    "    costs = [] # to keep track of the loss\r\n",
    "    m = X.shape[1] # number of examples\r\n",
    "    layers_dims = [X.shape[0], 10, 5, 1]\r\n",
    "    \r\n",
    "    # Initialize parameters dictionary.\r\n",
    "    if initialization == \"zeros\":\r\n",
    "        parameters = initialize_parameters_zeros(layers_dims)\r\n",
    "    elif initialization == \"random\":\r\n",
    "        parameters = initialize_parameters_random(layers_dims)\r\n",
    "    elif initialization == \"he\":\r\n",
    "        parameters = initialize_parameters_he(layers_dims)\r\n",
    "\r\n",
    "    # Loop (gradient descent)\r\n",
    "\r\n",
    "    for i in range(0, num_iterations):\r\n",
    "\r\n",
    "        # Forward propagation: LINEAR -> RELU -> LINEAR -> RELU -> LINEAR -> SIGMOID.\r\n",
    "        a3, cache = forward_propagation(X, parameters)\r\n",
    "        \r\n",
    "        # Loss\r\n",
    "        cost = compute_loss(a3, Y)\r\n",
    "\r\n",
    "        # Backward propagation.\r\n",
    "        grads = backward_propagation(X, Y, cache)\r\n",
    "        \r\n",
    "        # Update parameters.\r\n",
    "        parameters = update_parameters(parameters, grads, learning_rate)\r\n",
    "        \r\n",
    "        # Print the loss every 1000 iterations\r\n",
    "        if print_cost and i % 1000 == 0:\r\n",
    "            print(\"Cost after iteration {}: {}\".format(i, cost))\r\n",
    "            costs.append(cost)\r\n",
    "            \r\n",
    "    # plot the loss\r\n",
    "    plt.plot(costs)\r\n",
    "    plt.ylabel('cost')\r\n",
    "    plt.xlabel('iterations (per hundreds)')\r\n",
    "    plt.title(\"Learning rate =\" + str(learning_rate))\r\n",
    "    plt.show()\r\n",
    "    \r\n",
    "    return parameters"
   ],
   "outputs": [],
   "metadata": {
    "collapsed": true,
    "jupyter": {
     "outputs_hidden": true
    }
   }
  },
  {
   "cell_type": "markdown",
   "source": [
    "## 2 - Zero initialization\n",
    "\n",
    "There are two types of parameters to initialize in a neural network:\n",
    "- the weight matrices $(W^{[1]}, W^{[2]}, W^{[3]}, ..., W^{[L-1]}, W^{[L]})$\n",
    "- the bias vectors $(b^{[1]}, b^{[2]}, b^{[3]}, ..., b^{[L-1]}, b^{[L]})$\n",
    "\n",
    "**Exercise**: Implement the following function to initialize all parameters to zeros. You'll see later that this does not work well since it fails to \"break symmetry\", but lets try it anyway and see what happens. Use np.zeros((..,..)) with the correct shapes."
   ],
   "metadata": {}
  },
  {
   "cell_type": "code",
   "execution_count": null,
   "source": [
    "# GRADED FUNCTION: initialize_parameters_zeros \r\n",
    "\r\n",
    "def initialize_parameters_zeros(layers_dims):\r\n",
    "    \"\"\"\r\n",
    "    Arguments:\r\n",
    "    layer_dims -- python array (list) containing the size of each layer.\r\n",
    "    \r\n",
    "    Returns:\r\n",
    "    parameters -- python dictionary containing your parameters \"W1\", \"b1\", ..., \"WL\", \"bL\":\r\n",
    "                    W1 -- weight matrix of shape (layers_dims[1], layers_dims[0])\r\n",
    "                    b1 -- bias vector of shape (layers_dims[1], 1)\r\n",
    "                    ...\r\n",
    "                    WL -- weight matrix of shape (layers_dims[L], layers_dims[L-1])\r\n",
    "                    bL -- bias vector of shape (layers_dims[L], 1)\r\n",
    "    \"\"\"\r\n",
    "    \r\n",
    "    parameters = {}\r\n",
    "    L = len(layers_dims)            # number of layers in the network\r\n",
    "    \r\n",
    "    for l in range(1, L):\r\n",
    "        ### START CODE HERE ### (≈ 2 lines of code)\r\n",
    "        parameters['W' + str(l)] = None\r\n",
    "        parameters['b' + str(l)] = None\r\n",
    "        ### END CODE HERE ###\r\n",
    "    return parameters"
   ],
   "outputs": [],
   "metadata": {
    "collapsed": true,
    "jupyter": {
     "outputs_hidden": true
    }
   }
  },
  {
   "cell_type": "code",
   "execution_count": null,
   "source": [
    "parameters = initialize_parameters_zeros([3,2,1])\r\n",
    "print(\"W1 = \" + str(parameters[\"W1\"]))\r\n",
    "print(\"b1 = \" + str(parameters[\"b1\"]))\r\n",
    "print(\"W2 = \" + str(parameters[\"W2\"]))\r\n",
    "print(\"b2 = \" + str(parameters[\"b2\"]))"
   ],
   "outputs": [],
   "metadata": {
    "collapsed": true,
    "jupyter": {
     "outputs_hidden": true
    }
   }
  },
  {
   "cell_type": "markdown",
   "source": [
    "**Expected Output**:\n",
    "\n",
    "<table> \n",
    "    <tr>\n",
    "    <td>\n",
    "    **W1**\n",
    "    </td>\n",
    "        <td>\n",
    "    [[ 0.  0.  0.]\n",
    " [ 0.  0.  0.]]\n",
    "    </td>\n",
    "    </tr>\n",
    "    <tr>\n",
    "    <td>\n",
    "    **b1**\n",
    "    </td>\n",
    "        <td>\n",
    "    [[ 0.]\n",
    " [ 0.]]\n",
    "    </td>\n",
    "    </tr>\n",
    "    <tr>\n",
    "    <td>\n",
    "    **W2**\n",
    "    </td>\n",
    "        <td>\n",
    "    [[ 0.  0.]]\n",
    "    </td>\n",
    "    </tr>\n",
    "    <tr>\n",
    "    <td>\n",
    "    **b2**\n",
    "    </td>\n",
    "        <td>\n",
    "    [[ 0.]]\n",
    "    </td>\n",
    "    </tr>\n",
    "\n",
    "</table> "
   ],
   "metadata": {}
  },
  {
   "cell_type": "markdown",
   "source": [
    "Run the following code to train your model on 15,000 iterations using zeros initialization."
   ],
   "metadata": {}
  },
  {
   "cell_type": "code",
   "execution_count": null,
   "source": [
    "parameters = model(train_X, train_Y, initialization = \"zeros\")\r\n",
    "print (\"On the train set:\")\r\n",
    "predictions_train = predict(train_X, train_Y, parameters)\r\n",
    "print (\"On the test set:\")\r\n",
    "predictions_test = predict(test_X, test_Y, parameters)"
   ],
   "outputs": [],
   "metadata": {
    "collapsed": true,
    "jupyter": {
     "outputs_hidden": true
    }
   }
  },
  {
   "cell_type": "markdown",
   "source": [
    "The performance is really bad, and the cost does not really decrease, and the algorithm performs no better than random guessing. Why? Lets look at the details of the predictions and the decision boundary:"
   ],
   "metadata": {}
  },
  {
   "cell_type": "code",
   "execution_count": null,
   "source": [
    "print (\"predictions_train = \" + str(predictions_train))\r\n",
    "print (\"predictions_test = \" + str(predictions_test))"
   ],
   "outputs": [],
   "metadata": {
    "collapsed": true,
    "jupyter": {
     "outputs_hidden": true
    }
   }
  },
  {
   "cell_type": "code",
   "execution_count": null,
   "source": [
    "plt.title(\"Model with Zeros initialization\")\r\n",
    "axes = plt.gca()\r\n",
    "axes.set_xlim([-1.5,1.5])\r\n",
    "axes.set_ylim([-1.5,1.5])\r\n",
    "plot_decision_boundary(lambda x: predict_dec(parameters, x.T), train_X, train_Y)"
   ],
   "outputs": [],
   "metadata": {
    "collapsed": true,
    "jupyter": {
     "outputs_hidden": true
    }
   }
  },
  {
   "cell_type": "markdown",
   "source": [
    "The model is predicting 0 for every example. \n",
    "\n",
    "In general, initializing all the weights to zero results in the network failing to break symmetry. This means that every neuron in each layer will learn the same thing, and you might as well be training a neural network with $n^{[l]}=1$ for every layer, and the network is no more powerful than a linear classifier such as logistic regression. "
   ],
   "metadata": {}
  },
  {
   "cell_type": "markdown",
   "source": [
    "<font color='blue'>\n",
    "**What you should remember**:\n",
    "- The weights $W^{[l]}$ should be initialized randomly to break symmetry. \n",
    "- It is however okay to initialize the biases $b^{[l]}$ to zeros. Symmetry is still broken so long as $W^{[l]}$ is initialized randomly. \n"
   ],
   "metadata": {}
  },
  {
   "cell_type": "markdown",
   "source": [
    "## 3 - Random initialization\n",
    "\n",
    "To break symmetry, lets intialize the weights randomly. Following random initialization, each neuron can then proceed to learn a different function of its inputs. In this exercise, you will see what happens if the weights are intialized randomly, but to very large values. \n",
    "\n",
    "**Exercise**: Implement the following function to initialize your weights to large random values (scaled by \\*10) and your biases to zeros. Use `np.random.randn(..,..) * 10` for weights and `np.zeros((.., ..))` for biases. We are using a fixed `np.random.seed(..)` to make sure your \"random\" weights  match ours, so don't worry if running several times your code gives you always the same initial values for the parameters. "
   ],
   "metadata": {}
  },
  {
   "cell_type": "code",
   "execution_count": null,
   "source": [
    "# GRADED FUNCTION: initialize_parameters_random\r\n",
    "\r\n",
    "def initialize_parameters_random(layers_dims):\r\n",
    "    \"\"\"\r\n",
    "    Arguments:\r\n",
    "    layer_dims -- python array (list) containing the size of each layer.\r\n",
    "    \r\n",
    "    Returns:\r\n",
    "    parameters -- python dictionary containing your parameters \"W1\", \"b1\", ..., \"WL\", \"bL\":\r\n",
    "                    W1 -- weight matrix of shape (layers_dims[1], layers_dims[0])\r\n",
    "                    b1 -- bias vector of shape (layers_dims[1], 1)\r\n",
    "                    ...\r\n",
    "                    WL -- weight matrix of shape (layers_dims[L], layers_dims[L-1])\r\n",
    "                    bL -- bias vector of shape (layers_dims[L], 1)\r\n",
    "    \"\"\"\r\n",
    "    \r\n",
    "    np.random.seed(3)               # This seed makes sure your \"random\" numbers will be the as ours\r\n",
    "    parameters = {}\r\n",
    "    L = len(layers_dims)            # integer representing the number of layers\r\n",
    "    \r\n",
    "    for l in range(1, L):\r\n",
    "        ### START CODE HERE ### (≈ 2 lines of code)\r\n",
    "        parameters['W' + str(l)] = None\r\n",
    "        parameters['b' + str(l)] = None\r\n",
    "        ### END CODE HERE ###\r\n",
    "\r\n",
    "    return parameters"
   ],
   "outputs": [],
   "metadata": {
    "collapsed": true,
    "jupyter": {
     "outputs_hidden": true
    }
   }
  },
  {
   "cell_type": "code",
   "execution_count": null,
   "source": [
    "parameters = initialize_parameters_random([3, 2, 1])\r\n",
    "print(\"W1 = \" + str(parameters[\"W1\"]))\r\n",
    "print(\"b1 = \" + str(parameters[\"b1\"]))\r\n",
    "print(\"W2 = \" + str(parameters[\"W2\"]))\r\n",
    "print(\"b2 = \" + str(parameters[\"b2\"]))"
   ],
   "outputs": [],
   "metadata": {
    "collapsed": true,
    "jupyter": {
     "outputs_hidden": true
    }
   }
  },
  {
   "cell_type": "markdown",
   "source": [
    "**Expected Output**:\n",
    "\n",
    "<table> \n",
    "    <tr>\n",
    "    <td>\n",
    "    **W1**\n",
    "    </td>\n",
    "        <td>\n",
    "    [[ 17.88628473   4.36509851   0.96497468]\n",
    " [-18.63492703  -2.77388203  -3.54758979]]\n",
    "    </td>\n",
    "    </tr>\n",
    "    <tr>\n",
    "    <td>\n",
    "    **b1**\n",
    "    </td>\n",
    "        <td>\n",
    "    [[ 0.]\n",
    " [ 0.]]\n",
    "    </td>\n",
    "    </tr>\n",
    "    <tr>\n",
    "    <td>\n",
    "    **W2**\n",
    "    </td>\n",
    "        <td>\n",
    "    [[-0.82741481 -6.27000677]]\n",
    "    </td>\n",
    "    </tr>\n",
    "    <tr>\n",
    "    <td>\n",
    "    **b2**\n",
    "    </td>\n",
    "        <td>\n",
    "    [[ 0.]]\n",
    "    </td>\n",
    "    </tr>\n",
    "\n",
    "</table> "
   ],
   "metadata": {}
  },
  {
   "cell_type": "markdown",
   "source": [
    "Run the following code to train your model on 15,000 iterations using random initialization."
   ],
   "metadata": {}
  },
  {
   "cell_type": "code",
   "execution_count": null,
   "source": [
    "parameters = model(train_X, train_Y, initialization = \"random\")\r\n",
    "print (\"On the train set:\")\r\n",
    "predictions_train = predict(train_X, train_Y, parameters)\r\n",
    "print (\"On the test set:\")\r\n",
    "predictions_test = predict(test_X, test_Y, parameters)"
   ],
   "outputs": [],
   "metadata": {
    "collapsed": true,
    "jupyter": {
     "outputs_hidden": true
    }
   }
  },
  {
   "cell_type": "markdown",
   "source": [
    "If you see \"inf\" as the cost after the iteration 0, this is because of numerical roundoff; a more numerically sophisticated implementation would fix this. But this isn't worth worrying about for our purposes. \n",
    "\n",
    "Anyway, it looks like you have broken symmetry, and this gives better results. than before. The model is no longer outputting all 0s. "
   ],
   "metadata": {}
  },
  {
   "cell_type": "code",
   "execution_count": null,
   "source": [
    "print (predictions_train)\n",
    "print (predictions_test)"
   ],
   "outputs": [],
   "metadata": {
    "collapsed": true,
    "jupyter": {
     "outputs_hidden": true
    }
   }
  },
  {
   "cell_type": "code",
   "execution_count": null,
   "source": [
    "plt.title(\"Model with large random initialization\")\r\n",
    "axes = plt.gca()\r\n",
    "axes.set_xlim([-1.5,1.5])\r\n",
    "axes.set_ylim([-1.5,1.5])\r\n",
    "plot_decision_boundary(lambda x: predict_dec(parameters, x.T), train_X, train_Y)"
   ],
   "outputs": [],
   "metadata": {
    "collapsed": true,
    "jupyter": {
     "outputs_hidden": true
    }
   }
  },
  {
   "cell_type": "markdown",
   "source": [
    "**Observations**:\n",
    "- The cost starts very high. This is because with large random-valued weights, the last activation (sigmoid) outputs results that are very close to 0 or 1 for some examples, and when it gets that example wrong it incurs a very high loss for that example. Indeed, when $\\log(a^{[3]}) = \\log(0)$, the loss goes to infinity.\n",
    "- Poor initialization can lead to vanishing/exploding gradients, which also slows down the optimization algorithm. \n",
    "- If you train this network longer you will see better results, but initializing with overly large random numbers slows down the optimization.\n",
    "\n",
    "<font color='blue'>\n",
    "**In summary**:\n",
    "- Initializing weights to very large random values does not work well. \n",
    "- Hopefully intializing with small random values does better. The important question is: how small should be these random values be? Lets find out in the next part! "
   ],
   "metadata": {}
  },
  {
   "cell_type": "markdown",
   "source": [
    "## 4 - He initialization\n",
    "\n",
    "Finally, try \"He Initialization\"; this is named for the first author of He et al., 2015. (If you have heard of \"Xavier initialization\", this is similar except Xavier initialization uses a scaling factor for the weights $W^{[l]}$ of `sqrt(1./layers_dims[l-1])` where He initialization would use `sqrt(2./layers_dims[l-1])`.)\n",
    "\n",
    "**Exercise**: Implement the following function to initialize your parameters with He initialization.\n",
    "\n",
    "**Hint**: This function is similar to the previous `initialize_parameters_random(...)`. The only difference is that instead of multiplying `np.random.randn(..,..)` by 10, you will multiply it by $\\sqrt{\\frac{2}{\\text{dimension of the previous layer}}}$, which is what He initialization recommends for layers with a ReLU activation. "
   ],
   "metadata": {}
  },
  {
   "cell_type": "code",
   "execution_count": null,
   "source": [
    "# GRADED FUNCTION: initialize_parameters_he\r\n",
    "\r\n",
    "def initialize_parameters_he(layers_dims):\r\n",
    "    \"\"\"\r\n",
    "    Arguments:\r\n",
    "    layer_dims -- python array (list) containing the size of each layer.\r\n",
    "    \r\n",
    "    Returns:\r\n",
    "    parameters -- python dictionary containing your parameters \"W1\", \"b1\", ..., \"WL\", \"bL\":\r\n",
    "                    W1 -- weight matrix of shape (layers_dims[1], layers_dims[0])\r\n",
    "                    b1 -- bias vector of shape (layers_dims[1], 1)\r\n",
    "                    ...\r\n",
    "                    WL -- weight matrix of shape (layers_dims[L], layers_dims[L-1])\r\n",
    "                    bL -- bias vector of shape (layers_dims[L], 1)\r\n",
    "    \"\"\"\r\n",
    "    \r\n",
    "    np.random.seed(3)\r\n",
    "    parameters = {}\r\n",
    "    L = len(layers_dims) - 1 # integer representing the number of layers\r\n",
    "     \r\n",
    "    for l in range(1, L + 1):\r\n",
    "        ### START CODE HERE ### (≈ 2 lines of code)\r\n",
    "        parameters['W' + str(l)] = None\r\n",
    "        parameters['b' + str(l)] = None\r\n",
    "        ### END CODE HERE ###\r\n",
    "        \r\n",
    "    return parameters"
   ],
   "outputs": [],
   "metadata": {
    "collapsed": true,
    "jupyter": {
     "outputs_hidden": true
    }
   }
  },
  {
   "cell_type": "code",
   "execution_count": null,
   "source": [
    "parameters = initialize_parameters_he([2, 4, 1])\r\n",
    "print(\"W1 = \" + str(parameters[\"W1\"]))\r\n",
    "print(\"b1 = \" + str(parameters[\"b1\"]))\r\n",
    "print(\"W2 = \" + str(parameters[\"W2\"]))\r\n",
    "print(\"b2 = \" + str(parameters[\"b2\"]))"
   ],
   "outputs": [],
   "metadata": {
    "collapsed": true,
    "jupyter": {
     "outputs_hidden": true
    }
   }
  },
  {
   "cell_type": "markdown",
   "source": [
    "**Expected Output**:\n",
    "\n",
    "<table> \n",
    "    <tr>\n",
    "    <td>\n",
    "    **W1**\n",
    "    </td>\n",
    "        <td>\n",
    "    [[ 1.78862847  0.43650985]\n",
    " [ 0.09649747 -1.8634927 ]\n",
    " [-0.2773882  -0.35475898]\n",
    " [-0.08274148 -0.62700068]]\n",
    "    </td>\n",
    "    </tr>\n",
    "    <tr>\n",
    "    <td>\n",
    "    **b1**\n",
    "    </td>\n",
    "        <td>\n",
    "    [[ 0.]\n",
    " [ 0.]\n",
    " [ 0.]\n",
    " [ 0.]]\n",
    "    </td>\n",
    "    </tr>\n",
    "    <tr>\n",
    "    <td>\n",
    "    **W2**\n",
    "    </td>\n",
    "        <td>\n",
    "    [[-0.03098412 -0.33744411 -0.92904268  0.62552248]]\n",
    "    </td>\n",
    "    </tr>\n",
    "    <tr>\n",
    "    <td>\n",
    "    **b2**\n",
    "    </td>\n",
    "        <td>\n",
    "    [[ 0.]]\n",
    "    </td>\n",
    "    </tr>\n",
    "\n",
    "</table> "
   ],
   "metadata": {}
  },
  {
   "cell_type": "markdown",
   "source": [
    "Run the following code to train your model on 15,000 iterations using He initialization."
   ],
   "metadata": {}
  },
  {
   "cell_type": "code",
   "execution_count": null,
   "source": [
    "parameters = model(train_X, train_Y, initialization = \"he\")\r\n",
    "print (\"On the train set:\")\r\n",
    "predictions_train = predict(train_X, train_Y, parameters)\r\n",
    "print (\"On the test set:\")\r\n",
    "predictions_test = predict(test_X, test_Y, parameters)"
   ],
   "outputs": [],
   "metadata": {
    "collapsed": true,
    "jupyter": {
     "outputs_hidden": true
    }
   }
  },
  {
   "cell_type": "code",
   "execution_count": null,
   "source": [
    "plt.title(\"Model with He initialization\")\r\n",
    "axes = plt.gca()\r\n",
    "axes.set_xlim([-1.5,1.5])\r\n",
    "axes.set_ylim([-1.5,1.5])\r\n",
    "plot_decision_boundary(lambda x: predict_dec(parameters, x.T), train_X, train_Y)"
   ],
   "outputs": [],
   "metadata": {
    "collapsed": true,
    "jupyter": {
     "outputs_hidden": true
    }
   }
  },
  {
   "cell_type": "markdown",
   "source": [
    "**Observations**:\n",
    "- The model with He initialization separates the blue and the red dots very well in a small number of iterations.\n"
   ],
   "metadata": {}
  },
  {
   "cell_type": "markdown",
   "source": [
    "## 5 - Conclusions"
   ],
   "metadata": {}
  },
  {
   "cell_type": "markdown",
   "source": [
    "You have seen three different types of initializations. For the same number of iterations and same hyperparameters the comparison is:\r\n",
    "\r\n",
    "<table> \r\n",
    "    <tr>\r\n",
    "        <td>\r\n",
    "        **Model**\r\n",
    "        </td>\r\n",
    "        <td>\r\n",
    "        **Train accuracy**\r\n",
    "        </td>\r\n",
    "        <td>\r\n",
    "        **Problem/Comment**\r\n",
    "        </td>\r\n",
    "</tr>\r\n",
    "        <td>\r\n",
    "        3-layer NN with zeros initialization\r\n",
    "        </td>\r\n",
    "        <td>\r\n",
    "        50%\r\n",
    "        </td>\r\n",
    "        <td>\r\n",
    "        fails to break symmetry\r\n",
    "        </td>\r\n",
    "    <tr>\r\n",
    "        <td>\r\n",
    "        3-layer NN with large random initialization\r\n",
    "        </td>\r\n",
    "        <td>\r\n",
    "        83%\r\n",
    "        </td>\r\n",
    "        <td>\r\n",
    "        too large weights \r\n",
    "        </td>\r\n",
    "    </tr>\r\n",
    "    <tr>\r\n",
    "        <td>\r\n",
    "        3-layer NN with He initialization\r\n",
    "        </td>\r\n",
    "        <td>\r\n",
    "        99%\r\n",
    "        </td>\r\n",
    "        <td>\r\n",
    "        recommended method\r\n",
    "        </td>\r\n",
    "    </tr>\r\n",
    "</table> "
   ],
   "metadata": {}
  },
  {
   "cell_type": "markdown",
   "source": [
    "<font color='blue'>\n",
    "**What you should remember from this notebook**:\n",
    "- Different initializations lead to different results\n",
    "- Random initialization is used to break symmetry and make sure different hidden units can learn different things\n",
    "- Don't intialize to values that are too large\n",
    "- He initialization works well for networks with ReLU activations. "
   ],
   "metadata": {}
  }
 ],
 "metadata": {
  "coursera": {
   "course_slug": "deep-neural-network",
   "graded_item_id": "XOESP",
   "launcher_item_id": "8IhFN"
  },
  "kernelspec": {
   "display_name": "Python 3",
   "language": "python",
   "name": "python3"
  },
  "language_info": {
   "codemirror_mode": {
    "name": "ipython",
    "version": 3
   },
   "file_extension": ".py",
   "mimetype": "text/x-python",
   "name": "python",
   "nbconvert_exporter": "python",
   "pygments_lexer": "ipython3",
   "version": "3.7.4"
  }
 },
 "nbformat": 4,
 "nbformat_minor": 4
}